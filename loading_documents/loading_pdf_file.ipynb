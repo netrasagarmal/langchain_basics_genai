{
 "cells": [
  {
   "cell_type": "markdown",
   "metadata": {},
   "source": [
    "## Loading PDF using langchain_community.document_loaders:PyPDFLoader"
   ]
  },
  {
   "cell_type": "code",
   "execution_count": 1,
   "metadata": {},
   "outputs": [],
   "source": [
    "#import library\n",
    "from langchain_community.document_loaders import PyPDFLoader"
   ]
  },
  {
   "cell_type": "code",
   "execution_count": null,
   "metadata": {},
   "outputs": [],
   "source": [
    "#define pdf file path\n",
    "file_path = \"sample_document.pdf\""
   ]
  },
  {
   "cell_type": "code",
   "execution_count": 3,
   "metadata": {},
   "outputs": [],
   "source": [
    "# Load PDF file using PyPDF Loader\n",
    "loader = PyPDFLoader(file_path)"
   ]
  },
  {
   "cell_type": "code",
   "execution_count": 4,
   "metadata": {},
   "outputs": [],
   "source": [
    "docs = loader.load()\n"
   ]
  },
  {
   "cell_type": "code",
   "execution_count": 5,
   "metadata": {},
   "outputs": [
    {
     "name": "stdout",
     "output_type": "stream",
     "text": [
      "Length of pdf file:  21\n"
     ]
    }
   ],
   "source": [
    "print(\"Length of pdf file: \",len(docs))"
   ]
  },
  {
   "cell_type": "code",
   "execution_count": 6,
   "metadata": {},
   "outputs": [
    {
     "name": "stdout",
     "output_type": "stream",
     "text": [
      "Content of docs variable (what is read and loaded by PyPDFLoader):\n",
      "Type of variable docs <class 'list'>\n",
      "page_content='1 \n",
      "Dear shareholders, colleagues, customers, and partners: \n",
      "Fiscal year 2024 was a pivotal year for Microsoft. We entered our 50th year as a company and the second year of the AI \n",
      "platform shift. With these milestones, I’ve found myself reflecting on how Microsoft has remained a consequential \n",
      "company decade after decade in an industry with no franchise value. And I realize that it’s because—time and time again, \n",
      "when tech paradigms have shifted—we have seized the opportunity to reinvent ourselves to stay relevant to our \n",
      "customers, our partners, and our employees. And that’s what we are doing again today.  \n",
      "Microsoft has been a platform and tools company from the start. We were founded in 1975 with a belief in creating \n",
      "technology that would enable others to create their own. And, nearly 50 years later, this belief remains at the heart of our \n",
      "mission to empower every person and every organization on the planet to achieve more.  \n",
      "This year, we moved from talking about AI to helping our customers translate it into real outcomes—one person, one \n",
      "organization, one institution, and one country at a time. We have made remarkable progress on this front across every \n",
      "industry. For example:  \n",
      "• Coles is generating 1.6 billion daily AI predictions across 850 Australian stores, ensuring every shopper finds \n",
      "what they need.  \n",
      "• Unilever is performing thousands of simulations with AI in the time it would take to run tens of laboratory \n",
      "experiments, as it accelerates its product development.  \n",
      "• Developers at Itaú, Brazil’s largest private bank, are coding more efficiently using our AI pair programmer, \n",
      "GitHub Copilot.  \n",
      "• Khan Academy is making tutoring more accessible for students and helping teachers plan more creative \n",
      "lessons, using our small language model Phi.  \n",
      "• Aquafarmers in Indonesia are improving their yields, thanks to an app built with the Azure OpenAI Service, as \n",
      "well as Azure IoT.  \n",
      "• In Kenya, street vendors now have access to credit for the first time, thanks to M-Kopa, a social enterprise \n",
      "using Azure ML to do its forecasting.  \n",
      "• And enterprise customers and their employees around the world, from Amgen and Disney, to Finastra and \n",
      "Vodafone, are using Microsoft 365 Copilot to become more creative and productive.  \n",
      "Financially, the year was also marked by record performance. We delivered over $245 billion in annual revenue, up \n",
      "16 percent year-over-year, and over $109 billion in operating income, up 24 percent.  \n",
      "Going forward, we are focused on three priorities: First, prioritizing fundamentals, with security above all else. We \n",
      "launched the Secure Future Initiative (SFI) this year, bringing together every part of our organization to advance \n",
      "cybersecurity protection. Second, driving trustworthy AI innovation across our entire portfolio while continuing to scale our \n",
      "cloud business. And, finally, managing our cost structure dynamically to generate durable, long-term operating leverage. \n",
      "All three priorities are critical to our ability to continue thriving as a company as we raise the bar on our operational \n",
      "excellence, with a focus on continuous improvement across everything we do.  \n",
      "AGE OF AI  \n",
      "If we go back 70 years to the beginning of modern computing, our industry has had two dreams: First, can computers \n",
      "understand us instead of us having to understand computers? And second, as we digitize more of the world—including \n",
      "people, places, and things—can computers help us reason, plan, and act more effectively using all that information? Over \n",
      "the past year, we have had breakthroughs on both fronts.  \n",
      "The core underlying force behind these breakthroughs is scaling laws. Just like Moore’s Law drove the information \n",
      "revolution, the scaling laws of deep neural networks (DNN) and transformers are driving today’s AI revolution. Up until the \n",
      "DNN inflection point, progress in compute was keeping up with Moore’s Law—doubling every two years. But we have now \n",
      "started to see progress in AI performance double roughly every six months.  \n",
      "  \n",
      "There are three capabilities coming together because of these scaling laws. First, we have a new natural user interface \n",
      "that is multimodal. It supports speech, images, and videos—both as input and output. We have memory that retains \n",
      "important context, recalling both our personal knowledge and data across devices, apps, and the web. And, finally, we' metadata={'producer': 'Microsoft: Print To PDF', 'creator': 'PyPDF', 'creationdate': '2025-03-12T23:20:26+05:30', 'author': '', 'moddate': '2025-03-12T23:21:08+05:30', 'title': 'Microsoft Word - 2024_Annual_Report', 'source': 'G:\\\\genai\\\\langchain_basics_genai\\\\loading_documents\\\\sample_document.pdf', 'total_pages': 21, 'page': 1, 'page_label': '2'}\n"
     ]
    }
   ],
   "source": [
    "print(\"Content of docs variable (what is read and loaded by PyPDFLoader):\")\n",
    "print(\"Type of variable docs\", type(docs))\n",
    "\n",
    "print(docs[1])\n"
   ]
  },
  {
   "cell_type": "code",
   "execution_count": 7,
   "metadata": {},
   "outputs": [
    {
     "name": "stdout",
     "output_type": "stream",
     "text": [
      "1 \n",
      "Dear shareholders, colleagues, customers, and partners: \n",
      "Fiscal year 2024 was a pivotal year for Microsoft. We entered our 50th year as a company and the second year of the AI \n",
      "platform shift. With these milestones, I’ve found myself reflecting on how Microsoft has remained a consequential \n",
      "company decade after decade in an industry with no franchise value. And I realize that it’s because—time and time again, \n",
      "when tech paradigms have shifted—we have seized the opportunity to reinvent ourselves to stay relevant to our \n",
      "customers, our partners, and our employees. And that’s what we are doing again today.  \n",
      "Microsoft has been a platform and tools company from the start. We were founded in 1975 with a belief in creating \n",
      "technology that would enable others to create their own. And, nearly 50 years later, this belief remains at the heart of our \n",
      "mission to empower every person and every organization on the planet to achieve more.  \n",
      "This year, we moved from talking about AI to helping our customers translate it into real outcomes—one person, one \n",
      "organization, one institution, and one country at a time. We have made remarkable progress on this front across every \n",
      "industry. For example:  \n",
      "• Coles is generating 1.6 billion daily AI predictions across 850 Australian stores, ensuring every shopper finds \n",
      "what they need.  \n",
      "• Unilever is performing thousands of simulations with AI in the time it would take to run tens of laboratory \n",
      "experiments, as it accelerates its product development.  \n",
      "• Developers at Itaú, Brazil’s largest private bank, are coding more efficiently using our AI pair programmer, \n",
      "GitHub Copilot.  \n",
      "• Khan Academy is making tutoring more accessible for students and helping teachers plan more creative \n",
      "lessons, using our small language model Phi.  \n",
      "• Aquafarmers in Indonesia are improving their yields, thanks to an app built with the Azure OpenAI Service, as \n",
      "well as Azure IoT.  \n",
      "• In Kenya, street vendors now have access to credit for the first time, thanks to M-Kopa, a social enterprise \n",
      "using Azure ML to do its forecasting.  \n",
      "• And enterprise customers and their employees around the world, from Amgen and Disney, to Finastra and \n",
      "Vodafone, are using Microsoft 365 Copilot to become more creative and productive.  \n",
      "Financially, the year was also marked by record performance. We delivered over $245 billion in annual revenue, up \n",
      "16 percent year-over-year, and over $109 billion in operating income, up 24 percent.  \n",
      "Going forward, we are focused on three priorities: First, prioritizing fundamentals, with security above all else. We \n",
      "launched the Secure Future Initiative (SFI) this year, bringing together every part of our organization to advance \n",
      "cybersecurity protection. Second, driving trustworthy AI innovation across our entire portfolio while continuing to scale our \n",
      "cloud business. And, finally, managing our cost structure dynamically to generate durable, long-term operating leverage. \n",
      "All three priorities are critical to our ability to continue thriving as a company as we raise the bar on our operational \n",
      "excellence, with a focus on continuous improvement across everything we do.  \n",
      "AGE OF AI  \n",
      "If we go back 70 years to the beginning of modern computing, our industry has had two dreams: First, can computers \n",
      "understand us instead of us having to understand computers? And second, as we digitize more of the world—including \n",
      "people, places, and things—can computers help us reason, plan, and act more effectively using all that information? Over \n",
      "the past year, we have had breakthroughs on both fronts.  \n",
      "The core underlying force behind these breakthroughs is scaling laws. Just like Moore’s Law drove the information \n",
      "revolution, the scaling laws of deep neural networks (DNN) and transformers are driving today’s AI revolution. Up until the \n",
      "DNN inflection point, progress in compute was keeping up with Moore’s Law—doubling every two years. But we have now \n",
      "started to see progress in AI performance double roughly every six months.  \n",
      "  \n",
      "There are three capabilities coming together because of these scaling laws. First, we have a new natural user interface \n",
      "that is multimodal. It supports speech, images, and videos—both as input and output. We have memory that retains \n",
      "important context, recalling both our personal knowledge and data across devices, apps, and the web. And, finally, we\n"
     ]
    }
   ],
   "source": [
    "#printing the document page content\n",
    "print(docs[1].page_content)"
   ]
  },
  {
   "cell_type": "code",
   "execution_count": 8,
   "metadata": {},
   "outputs": [
    {
     "name": "stdout",
     "output_type": "stream",
     "text": [
      "{'producer': 'Microsoft: Print To PDF', 'creator': 'PyPDF', 'creationdate': '2025-03-12T23:20:26+05:30', 'author': '', 'moddate': '2025-03-12T23:21:08+05:30', 'title': 'Microsoft Word - 2024_Annual_Report', 'source': 'G:\\\\genai\\\\langchain_basics_genai\\\\loading_documents\\\\sample_document.pdf', 'total_pages': 21, 'page': 1, 'page_label': '2'}\n"
     ]
    }
   ],
   "source": [
    "#printing the metadata\n",
    "print(docs[1].metadata)"
   ]
  }
 ],
 "metadata": {
  "kernelspec": {
   "display_name": "Python 3",
   "language": "python",
   "name": "python3"
  },
  "language_info": {
   "codemirror_mode": {
    "name": "ipython",
    "version": 3
   },
   "file_extension": ".py",
   "mimetype": "text/x-python",
   "name": "python",
   "nbconvert_exporter": "python",
   "pygments_lexer": "ipython3",
   "version": "3.11.9"
  }
 },
 "nbformat": 4,
 "nbformat_minor": 2
}
